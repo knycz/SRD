{
  "nbformat": 4,
  "nbformat_minor": 0,
  "metadata": {
    "colab": {
      "name": "chart.ipynb",
      "provenance": [],
      "collapsed_sections": [],
      "authorship_tag": "ABX9TyMH9iZ81BUgEGWXAqKkaU+G"
    },
    "kernelspec": {
      "name": "python3",
      "display_name": "Python 3"
    },
    "language_info": {
      "name": "python"
    }
  },
  "cells": [
    {
      "cell_type": "code",
      "metadata": {
        "colab": {
          "base_uri": "https://localhost:8080/"
        },
        "id": "Xd-Z_wabhQXa",
        "outputId": "dac4726a-96e8-4cac-9d48-1107e11507c5"
      },
      "source": [
        "pip install pyspark"
      ],
      "execution_count": 1,
      "outputs": [
        {
          "output_type": "stream",
          "text": [
            "Requirement already satisfied: pyspark in /usr/local/lib/python3.7/dist-packages (3.1.2)\n",
            "Requirement already satisfied: py4j==0.10.9 in /usr/local/lib/python3.7/dist-packages (from pyspark) (0.10.9)\n"
          ],
          "name": "stdout"
        }
      ]
    },
    {
      "cell_type": "code",
      "metadata": {
        "id": "3g3zDk-ihRCo"
      },
      "source": [
        "import pyspark\n",
        "\n",
        "from pyspark.sql import SparkSession\n",
        "from pyspark.sql.types import *\n",
        " \n",
        "from pyspark.sql.functions import *\n",
        "from pyspark.ml.classification import LogisticRegression\n",
        "from pyspark.ml.feature import HashingTF, Tokenizer, StopWordsRemover"
      ],
      "execution_count": 2,
      "outputs": []
    },
    {
      "cell_type": "code",
      "metadata": {
        "id": "s6pl8dNBhSe9"
      },
      "source": [
        "# inicjalizacja SparkSession\n",
        "myconf = pyspark.SparkConf().setAll([('spark.executor.cores', '4'), ('spark.cores.max', '4')])\n",
        "spark = SparkSession.builder.config(conf=myconf).master(\"local[4]\").appName(\"TWITTER_SENTIMENT\").getOrCreate()\n",
        "spark.sparkContext.setLogLevel(\"ERROR\")\n",
        "#sc = spark.sparkContext"
      ],
      "execution_count": 3,
      "outputs": []
    },
    {
      "cell_type": "code",
      "metadata": {
        "id": "Z_8klpOlhUCh"
      },
      "source": [
        "TwitterTrainData = StructType([\n",
        "    StructField(\"Polarity\", IntegerType(), nullable = False),\n",
        "    StructField(\"TweetID\", StringType(), False),\n",
        "    StructField(\"CreatedAt\", DateType(), True),\n",
        "    StructField(\"Query\", StringType(), True),\n",
        "    StructField(\"UserName\", StringType(), False),\n",
        "    StructField(\"TweetText\", StringType(), False)\n",
        "])"
      ],
      "execution_count": 4,
      "outputs": []
    },
    {
      "cell_type": "code",
      "metadata": {
        "colab": {
          "base_uri": "https://localhost:8080/"
        },
        "id": "fVR97ag7hYI4",
        "outputId": "75c4c85b-3aac-4301-febb-7aeb11404e79"
      },
      "source": [
        "from google.colab import drive\n",
        "drive.mount('/content/drive', force_remount = True)"
      ],
      "execution_count": 5,
      "outputs": [
        {
          "output_type": "stream",
          "text": [
            "Mounted at /content/drive\n"
          ],
          "name": "stdout"
        }
      ]
    },
    {
      "cell_type": "code",
      "metadata": {
        "colab": {
          "base_uri": "https://localhost:8080/"
        },
        "id": "XSL7W0RshZtg",
        "outputId": "ba55fd02-549b-4467-b142-20bd83b34430"
      },
      "source": [
        "tweets = spark.read.csv(\"/content/drive/MyDrive/training.1600000.processed.noemoticon.csv\", \n",
        "                        schema=TwitterTrainData, header=False, sep = ',')\n",
        "tweets.show(truncate=False, n=5)"
      ],
      "execution_count": 6,
      "outputs": [
        {
          "output_type": "stream",
          "text": [
            "+--------+----------+---------+--------+---------------+-------------------------------------------------------------------------------------------------------------------+\n",
            "|Polarity|TweetID   |CreatedAt|Query   |UserName       |TweetText                                                                                                          |\n",
            "+--------+----------+---------+--------+---------------+-------------------------------------------------------------------------------------------------------------------+\n",
            "|0       |1467810369|null     |NO_QUERY|_TheSpecialOne_|@switchfoot http://twitpic.com/2y1zl - Awww, that's a bummer.  You shoulda got David Carr of Third Day to do it. ;D|\n",
            "|0       |1467810672|null     |NO_QUERY|scotthamilton  |is upset that he can't update his Facebook by texting it... and might cry as a result  School today also. Blah!    |\n",
            "|0       |1467810917|null     |NO_QUERY|mattycus       |@Kenichan I dived many times for the ball. Managed to save 50%  The rest go out of bounds                          |\n",
            "|0       |1467811184|null     |NO_QUERY|ElleCTF        |my whole body feels itchy and like its on fire                                                                     |\n",
            "|0       |1467811193|null     |NO_QUERY|Karoli         |@nationwideclass no, it's not behaving at all. i'm mad. why am i here? because I can't see you all over there.     |\n",
            "+--------+----------+---------+--------+---------------+-------------------------------------------------------------------------------------------------------------------+\n",
            "only showing top 5 rows\n",
            "\n"
          ],
          "name": "stdout"
        }
      ]
    },
    {
      "cell_type": "code",
      "metadata": {
        "colab": {
          "base_uri": "https://localhost:8080/"
        },
        "id": "jnv6f4uwhbJ-",
        "outputId": "2461dec4-2f7f-48c7-df11-c132c52bfc41"
      },
      "source": [
        "tweets.groupBy(\"Polarity\").count().show(5)"
      ],
      "execution_count": 7,
      "outputs": [
        {
          "output_type": "stream",
          "text": [
            "+--------+------+\n",
            "|Polarity| count|\n",
            "+--------+------+\n",
            "|       4|800000|\n",
            "|       0|800000|\n",
            "+--------+------+\n",
            "\n"
          ],
          "name": "stdout"
        }
      ]
    },
    {
      "cell_type": "code",
      "metadata": {
        "id": "-0Q1uIz_hcri"
      },
      "source": [
        "#Zamiana flagi pozytywnej z 4 na 1\n",
        "tweets = tweets.withColumn(\"Polarity\", when(col(\"Polarity\")==4, 1).otherwise(col(\"Polarity\")))"
      ],
      "execution_count": 8,
      "outputs": []
    },
    {
      "cell_type": "code",
      "metadata": {
        "colab": {
          "base_uri": "https://localhost:8080/"
        },
        "id": "VYKRe9orhe8g",
        "outputId": "45dbee01-94e3-4d50-f718-8b12d205e02e"
      },
      "source": [
        "#Wyciągnięcie tylko istotnych pod kątem analizy sentymentu danych\n",
        "tweetsCleansed = tweets.select(\"TweetText\", col(\"Polarity\").cast(\"Int\").alias(\"label\"))\n",
        " \n",
        "#Uporządkowania danych w tweecie - zostawienie tylko znaków alfanumerycznych\n",
        "#usunięcie whitespaców na początku/końcu\n",
        "#usunięcie podwójnych spacji w środku zdań\n",
        "#dodatkowo usuwa URLe i oznaczenia/odwołania typu @user\n",
        "#na koniec wszystko do lowercase\n",
        "tweetsCleansed = tweetsCleansed.withColumn(\"TweetText\",\n",
        "                                           lower(trim(regexp_replace(\n",
        "                                               regexp_replace(\n",
        "                                                   regexp_replace(col(\"TweetText\"),\"(http\\S+)?(@\\S+)?\",\"\"),\n",
        "                                               \"[^A-Za-z0-9:;/_(\\s)#]\", \"\"),\n",
        "                                           \"(\\s)+\", \" \"))))\n",
        "tweetsCleansed.show(truncate = False,n=10)"
      ],
      "execution_count": 9,
      "outputs": [
        {
          "output_type": "stream",
          "text": [
            "+--------------------------------------------------------------------------------------------------------+-----+\n",
            "|TweetText                                                                                               |label|\n",
            "+--------------------------------------------------------------------------------------------------------+-----+\n",
            "|awww thats a bummer you shoulda got david carr of third day to do it ;d                                 |0    |\n",
            "|is upset that he cant update his facebook by texting it and might cry as a result school today also blah|0    |\n",
            "|i dived many times for the ball managed to save 50 the rest go out of bounds                            |0    |\n",
            "|my whole body feels itchy and like its on fire                                                          |0    |\n",
            "|no its not behaving at all im mad why am i here because i cant see you all over there                   |0    |\n",
            "|not the whole crew                                                                                      |0    |\n",
            "|need a hug                                                                                              |0    |\n",
            "|hey long time no see yes rains a bit only a bit lol im fine thanks hows you                             |0    |\n",
            "|nope they didnt have it                                                                                 |0    |\n",
            "|que me muera                                                                                            |0    |\n",
            "+--------------------------------------------------------------------------------------------------------+-----+\n",
            "only showing top 10 rows\n",
            "\n"
          ],
          "name": "stdout"
        }
      ]
    },
    {
      "cell_type": "code",
      "metadata": {
        "id": "g0QoWiz8hgYm"
      },
      "source": [
        "#Podział danych na zbiór uczący i testujący. Tylko 10% dla informacyjnej ewaluacji celności predykcji\n",
        "#To jest workaround, bo randomSplit na DataFrame gubi kolumny i dla TweetText zwraca same nulle...\n",
        "#Więcej tutaj: https://community.cloudera.com/t5/Support-Questions/Pyspark-Table-Dataframe-returning-empty-records-from/m-p/35880#M23329\n",
        "rdd_df = tweetsCleansed.rdd\n",
        "trainingData, testingData = rdd_df.randomSplit([0.9, 0.1])\n",
        "trainingData = spark.createDataFrame(trainingData)\n",
        "testingData = spark.createDataFrame(testingData)"
      ],
      "execution_count": 10,
      "outputs": []
    },
    {
      "cell_type": "code",
      "metadata": {
        "colab": {
          "base_uri": "https://localhost:8080/"
        },
        "id": "0zo1p1pKhj-s",
        "outputId": "4565229d-3fc1-45e9-95d5-11df698e7b8c"
      },
      "source": [
        "#Podzielnie TweetText na arraye z pojedynczymi słowami\n",
        "#To samo możnaby zrobić ręcznie splitem i dodaniem kolumny\n",
        "tokenizer = Tokenizer(inputCol=\"TweetText\", outputCol=\"TweetWords\")\n",
        "tokenizedTrain = tokenizer.transform(trainingData)\n",
        "tokenizedTrain.show(10)\n",
        " \n",
        "#tokenizedTrain = trainingData.withColumn(\"TweetWords\", split(col(\"TweetText\"), \" \")).show(10)\n",
        "#tokenizedTrain = trainingData.select(split(trainingData.TweetText, \" \").alias(\"word\")).show(10)"
      ],
      "execution_count": 11,
      "outputs": [
        {
          "output_type": "stream",
          "text": [
            "+--------------------+-----+--------------------+\n",
            "|           TweetText|label|          TweetWords|\n",
            "+--------------------+-----+--------------------+\n",
            "|awww thats a bumm...|    0|[awww, thats, a, ...|\n",
            "|is upset that he ...|    0|[is, upset, that,...|\n",
            "|my whole body fee...|    0|[my, whole, body,...|\n",
            "|no its not behavi...|    0|[no, its, not, be...|\n",
            "|  not the whole crew|    0|[not, the, whole,...|\n",
            "|          need a hug|    0|      [need, a, hug]|\n",
            "|nope they didnt h...|    0|[nope, they, didn...|\n",
            "|spring break in p...|    0|[spring, break, i...|\n",
            "|i just repierced ...|    0|[i, just, repierc...|\n",
            "|i couldnt bear to...|    0|[i, couldnt, bear...|\n",
            "+--------------------+-----+--------------------+\n",
            "only showing top 10 rows\n",
            "\n"
          ],
          "name": "stdout"
        }
      ]
    },
    {
      "cell_type": "code",
      "metadata": {
        "colab": {
          "base_uri": "https://localhost:8080/"
        },
        "id": "9AvUWAUVhlmA",
        "outputId": "9c46e2fb-d943-40a3-953c-015203b30e23"
      },
      "source": [
        "#Usunięcie zbędnych słów (zaimiki, przyimiki) przy pomocy wbudowanej biblioteki\n",
        "swr = StopWordsRemover(inputCol=\"TweetWords\", outputCol=\"TweetWordsFiltered\")\n",
        "SwRemovedTrain = swr.transform(tokenizedTrain)\n",
        "SwRemovedTrain.show(5)"
      ],
      "execution_count": 12,
      "outputs": [
        {
          "output_type": "stream",
          "text": [
            "+--------------------+-----+--------------------+--------------------+\n",
            "|           TweetText|label|          TweetWords|  TweetWordsFiltered|\n",
            "+--------------------+-----+--------------------+--------------------+\n",
            "|awww thats a bumm...|    0|[awww, thats, a, ...|[awww, thats, bum...|\n",
            "|is upset that he ...|    0|[is, upset, that,...|[upset, cant, upd...|\n",
            "|my whole body fee...|    0|[my, whole, body,...|[whole, body, fee...|\n",
            "|no its not behavi...|    0|[no, its, not, be...|[behaving, im, ma...|\n",
            "|  not the whole crew|    0|[not, the, whole,...|       [whole, crew]|\n",
            "+--------------------+-----+--------------------+--------------------+\n",
            "only showing top 5 rows\n",
            "\n"
          ],
          "name": "stdout"
        }
      ]
    },
    {
      "cell_type": "code",
      "metadata": {
        "colab": {
          "base_uri": "https://localhost:8080/"
        },
        "id": "54D12rLYhnQc",
        "outputId": "8c2b1076-4335-4a46-9b69-c08a57786100"
      },
      "source": [
        "#Przekształcenie słów w hashe przy pomocy wbudowanej biblioteki\n",
        "hashTF = HashingTF(inputCol=\"TweetWordsFiltered\", outputCol=\"features\")\n",
        "numericTrainData = hashTF.transform(SwRemovedTrain)#.select('label', 'MeaningfulWords', 'features')\n",
        " \n",
        "numericTrainData.show(5)"
      ],
      "execution_count": 13,
      "outputs": [
        {
          "output_type": "stream",
          "text": [
            "+--------------------+-----+--------------------+--------------------+--------------------+\n",
            "|           TweetText|label|          TweetWords|  TweetWordsFiltered|            features|\n",
            "+--------------------+-----+--------------------+--------------------+--------------------+\n",
            "|awww thats a bumm...|    0|[awww, thats, a, ...|[awww, thats, bum...|(262144,[10345,52...|\n",
            "|is upset that he ...|    0|[is, upset, that,...|[upset, cant, upd...|(262144,[59577,61...|\n",
            "|my whole body fee...|    0|[my, whole, body,...|[whole, body, fee...|(262144,[34121,80...|\n",
            "|no its not behavi...|    0|[no, its, not, be...|[behaving, im, ma...|(262144,[1968,853...|\n",
            "|  not the whole crew|    0|[not, the, whole,...|       [whole, crew]|(262144,[56326,80...|\n",
            "+--------------------+-----+--------------------+--------------------+--------------------+\n",
            "only showing top 5 rows\n",
            "\n"
          ],
          "name": "stdout"
        }
      ]
    },
    {
      "cell_type": "code",
      "metadata": {
        "id": "P2yVh-6Jho0N"
      },
      "source": [
        "#Trenowanie modelu na danych testowych, ponownie wykorzystana wbudowana biblioteka\n",
        "#https://spark.apache.org/docs/latest/ml-classification-regression.html#logistic-regression\n",
        "lr = LogisticRegression(labelCol=\"label\", featuresCol=\"features\", \n",
        "                        maxIter=10, regParam=0.01)\n",
        "model = lr.fit(numericTrainData)"
      ],
      "execution_count": 14,
      "outputs": []
    },
    {
      "cell_type": "code",
      "metadata": {
        "id": "KE42dh6shtK6"
      },
      "source": [
        "#Przygotowanie danych testowych tj. nakładanie identycznych transformat co na dane treningowe czyli\n",
        "#tokenizacji - zamiany stirngów na arraye\n",
        "#usuwanie zbędnych słów\n",
        "#hashowania wyrazów\n",
        "tokenizedTest = tokenizer.transform(testingData)\n",
        "SwRemovedTest = swr.transform(tokenizedTest)\n",
        "numericTest = hashTF.transform(SwRemovedTest)"
      ],
      "execution_count": 15,
      "outputs": []
    },
    {
      "cell_type": "code",
      "metadata": {
        "colab": {
          "base_uri": "https://localhost:8080/"
        },
        "id": "lzMb96myhuur",
        "outputId": "39f095ba-e4f9-4ec8-8028-a145ac2fff5a"
      },
      "source": [
        "#Predykcja na danych testowych, porównanie wartości i określenie celności na danych testowych\n",
        "prediction = model.transform(numericTest)\n",
        " \n",
        "predictionFinal = prediction.select(\n",
        "    \"TweetText\", \"label\", \"prediction\")\n",
        "predictionFinal.show(10)"
      ],
      "execution_count": 16,
      "outputs": [
        {
          "output_type": "stream",
          "text": [
            "+--------------------+-----+----------+\n",
            "|           TweetText|label|prediction|\n",
            "+--------------------+-----+----------+\n",
            "|i dived many time...|    0|       0.0|\n",
            "|hey long time no ...|    0|       1.0|\n",
            "|        que me muera|    0|       0.0|\n",
            "|i wish i got to w...|    0|       0.0|\n",
            "|oh dear were you ...|    0|       0.0|\n",
            "|blagh class at 8 ...|    0|       0.0|\n",
            "|yay im happy for ...|    0|       1.0|\n",
            "|not sure what the...|    0|       0.0|\n",
            "|ugh92 degrees tom...|    0|       0.0|\n",
            "|i had such a nice...|    0|       0.0|\n",
            "+--------------------+-----+----------+\n",
            "only showing top 10 rows\n",
            "\n"
          ],
          "name": "stdout"
        }
      ]
    },
    {
      "cell_type": "code",
      "metadata": {
        "colab": {
          "base_uri": "https://localhost:8080/"
        },
        "id": "mJj6kwjxhwS6",
        "outputId": "a18e5d29-cb4c-443e-b97e-414e85e7b18c"
      },
      "source": [
        "correctPrediction = predictionFinal.filter(\n",
        "    predictionFinal['prediction'] == predictionFinal['label']).count()\n",
        "print(correctPrediction / predictionFinal.count())"
      ],
      "execution_count": 17,
      "outputs": [
        {
          "output_type": "stream",
          "text": [
            "0.7592094841940493\n"
          ],
          "name": "stdout"
        }
      ]
    },
    {
      "cell_type": "code",
      "metadata": {
        "id": "efKHEsVlhwOC"
      },
      "source": [
        "TwitterData = StructType([\n",
        "    StructField(\"CreatedAt\", TimestampType(), nullable = False),\n",
        "    StructField(\"TweetID\", StringType(), False),\n",
        "    StructField(\"TweetText\", StringType(), False),\n",
        "    StructField(\"ScreenName\", StringType(), True),\n",
        "    StructField(\"Name\", StringType(), True),\n",
        "    StructField(\"Followers\", IntegerType(), True),\n",
        "    StructField(\"AccountCreationDate\", DateType(), True),\n",
        "    StructField(\"Urls\", StringType(), True),\n",
        "])"
      ],
      "execution_count": 18,
      "outputs": []
    },
    {
      "cell_type": "code",
      "metadata": {
        "id": "O2ce37DthzcQ"
      },
      "source": [
        "streamDF = spark.readStream.option(\"header\", \"true\").option(\"maxFilesPerTrigger\", 5).schema(TwitterData).csv(path=\"/content/drive/MyDrive/scraper\").dropDuplicates([\"TweetID\"])"
      ],
      "execution_count": 19,
      "outputs": []
    },
    {
      "cell_type": "code",
      "metadata": {
        "id": "gYpuVq23h1a7"
      },
      "source": [
        "streamTweets = streamDF.withColumn(\"TweetText\",\n",
        "                                     lower(trim(regexp_replace(\n",
        "                                       regexp_replace(\n",
        "                                         regexp_replace(col(\"TweetText\"),\"(http\\S+)?(@\\S+)?\",\"\"),\n",
        "                                         \"[^A-Za-z0-9:;/_(\\s)#]\", \"\"),\n",
        "                                       \"(\\s)+\", \" \")))).select(\"CreatedAt\", \"TweetText\", \"Followers\").dropna(subset = \"TweetText\")\n",
        " \n",
        "streamTweets = tokenizer.transform(streamTweets)\n",
        "streamTweets = swr.transform(streamTweets)\n",
        "streamTweets = hashTF.transform(streamTweets)\n",
        " \n",
        "predictionStreamTweets = model.transform(streamTweets).select(\"CreatedAt\", \"TweetText\", \"Followers\", \"prediction\")"
      ],
      "execution_count": 20,
      "outputs": []
    },
    {
      "cell_type": "code",
      "metadata": {
        "colab": {
          "base_uri": "https://localhost:8080/"
        },
        "id": "4N0iW5p9h29k",
        "outputId": "28385cb4-d35d-40aa-fc81-e0872850d324"
      },
      "source": [
        "predictionStreamTweets.writeStream.format(\"memory\").queryName(\"MyPredictionTab\").start()"
      ],
      "execution_count": 21,
      "outputs": [
        {
          "output_type": "execute_result",
          "data": {
            "text/plain": [
              "<pyspark.sql.streaming.StreamingQuery at 0x7f1196a09dd0>"
            ]
          },
          "metadata": {
            "tags": []
          },
          "execution_count": 21
        }
      ]
    },
    {
      "cell_type": "code",
      "metadata": {
        "colab": {
          "base_uri": "https://localhost:8080/"
        },
        "id": "B7XQGAXTh4tx",
        "outputId": "5d8f3398-0cc7-4e87-f2a6-623ed16c6aaf"
      },
      "source": [
        "#type(predictionStreamTweets.writeStream.format(\"memory\").queryName(\"MyPredictionTab3\").start())\n",
        "#MyPredictionTab.select(\"*\")\n",
        "type(spark.sql(\"select * from MyPredictionTab\") )\n",
        "#.show()"
      ],
      "execution_count": null,
      "outputs": [
        {
          "output_type": "execute_result",
          "data": {
            "text/plain": [
              "pyspark.sql.dataframe.DataFrame"
            ]
          },
          "metadata": {
            "tags": []
          },
          "execution_count": 23
        }
      ]
    },
    {
      "cell_type": "code",
      "metadata": {
        "colab": {
          "base_uri": "https://localhost:8080/"
        },
        "id": "H_DCtVFxh6af",
        "outputId": "c1a8956c-83bf-4c70-b706-4e31c57ffa9f"
      },
      "source": [
        "spark.sql(\"select * from MyPredictionTab\").show()"
      ],
      "execution_count": 22,
      "outputs": [
        {
          "output_type": "stream",
          "text": [
            "+---------+---------+---------+----------+\n",
            "|CreatedAt|TweetText|Followers|prediction|\n",
            "+---------+---------+---------+----------+\n",
            "+---------+---------+---------+----------+\n",
            "\n"
          ],
          "name": "stdout"
        }
      ]
    },
    {
      "cell_type": "code",
      "metadata": {
        "colab": {
          "base_uri": "https://localhost:8080/"
        },
        "id": "Fq2D3m-HiHOk",
        "outputId": "71436e43-12fe-413c-f9b2-d2be7be96439"
      },
      "source": [
        "predictionStreamTweets.writeStream\\\n",
        ".format(\"csv\")\\\n",
        ".outputMode(\"append\")\\\n",
        ".option(\"checkpointLocation\", \"/content/drive/MyDrive/checkpoints\")\\\n",
        ".option(\"path\", \"/content/drive/MyDrive/output\")\\\n",
        ".trigger(processingTime='10 seconds')\\\n",
        ".start()"
      ],
      "execution_count": 23,
      "outputs": [
        {
          "output_type": "execute_result",
          "data": {
            "text/plain": [
              "<pyspark.sql.streaming.StreamingQuery at 0x7f1196b3c5d0>"
            ]
          },
          "metadata": {
            "tags": []
          },
          "execution_count": 23
        }
      ]
    },
    {
      "cell_type": "code",
      "metadata": {
        "colab": {
          "base_uri": "https://localhost:8080/"
        },
        "id": "fIIi3w2ViJE0",
        "outputId": "f32c77d6-0136-46ec-b6a4-d8253e97a41b"
      },
      "source": [
        "# ORYGINAŁ \n",
        "predictionStreamTweets.writeStream\\\n",
        ".format(\"csv\")\\\n",
        ".outputMode(\"append\")\\\n",
        ".option(\"checkpointLocation\", \"/FileStore/tables/checkpoints\")\\\n",
        ".option(\"path\", \"/FileStore/tables/output\")\\\n",
        ".trigger(processingTime='10 seconds')\\\n",
        ".start()"
      ],
      "execution_count": null,
      "outputs": [
        {
          "output_type": "execute_result",
          "data": {
            "text/plain": [
              "<pyspark.sql.streaming.StreamingQuery at 0x7f9dc8aad0d0>"
            ]
          },
          "metadata": {
            "tags": []
          },
          "execution_count": 26
        }
      ]
    },
    {
      "cell_type": "code",
      "metadata": {
        "id": "h0yQUszJiK9g"
      },
      "source": [
        "WinStreamDF3 = predictionStreamTweets\\\n",
        ".withWatermark(\"CreatedAt\", \"10 seconds\") \\\n",
        ".withColumn(\"prediction\",(when(col(\"prediction\") == 0.0, -1).otherwise(col(\"prediction\"))))\\\n",
        ".groupBy(window(\"CreatedAt\", \"10 seconds\"),\"prediction\").agg(sum(\"Followers\"),sum(\"prediction\"))\\\n",
        ".withColumnRenamed(\"sum(Followers)\",\"Followers\").withColumnRenamed(\"sum(prediction)\",\"Score\")#.sort(withWatermark)"
      ],
      "execution_count": null,
      "outputs": []
    },
    {
      "cell_type": "code",
      "metadata": {
        "id": "ZzvSR56ViMqD"
      },
      "source": [
        "WinStreamDF3.writeStream.format(\"memory\").queryName(\"test3\").start()"
      ],
      "execution_count": null,
      "outputs": []
    },
    {
      "cell_type": "code",
      "metadata": {
        "id": "r0rpMi-aiOQU"
      },
      "source": [
        "spark.sql(\"select * from test3\").show(truncate=False)"
      ],
      "execution_count": null,
      "outputs": []
    },
    {
      "cell_type": "code",
      "metadata": {
        "id": "LqL4vRa8iPhc"
      },
      "source": [
        "WinStreamDF10 = predictionStreamTweets\\\n",
        ".withWatermark(\"CreatedAt\", \"10 seconds\") \\\n",
        ".withColumn(\"prediction\",(when(col(\"prediction\") == 0.0, -1).otherwise(col(\"prediction\"))))\\\n",
        ".withColumn(\"ind\", col(\"prediction\")*col(\"Followers\"))\\\n",
        ".groupBy(window(\"CreatedAt\", \"10 seconds\"),\"prediction\").agg(sum(\"Followers\"),sum(\"ind\"))\\\n",
        ".drop(\"prediction\")"
      ],
      "execution_count": null,
      "outputs": []
    },
    {
      "cell_type": "code",
      "metadata": {
        "id": "BlqJxdqXiQ0J"
      },
      "source": [
        "WinStreamDF10.writeStream.format(\"memory\").queryName(\"test10\").start()"
      ],
      "execution_count": null,
      "outputs": []
    },
    {
      "cell_type": "code",
      "metadata": {
        "id": "ZdJgZ8w4iSYu"
      },
      "source": [
        "spark.sql(\"select * from test10\").show(truncate=False)"
      ],
      "execution_count": null,
      "outputs": []
    },
    {
      "cell_type": "code",
      "metadata": {
        "id": "aMlIXT2ciUJ3"
      },
      "source": [
        "WinStreamDF11 = predictionStreamTweets\\\n",
        ".withWatermark(\"CreatedAt\", \"10 seconds\") \\\n",
        ".withColumn(\"prediction\",(when(col(\"prediction\") == 0.0, -1).otherwise(col(\"prediction\"))))\\\n",
        ".withColumn(\"ind\", col(\"prediction\")*col(\"Followers\"))\\\n",
        ".groupBy(window(\"CreatedAt\", \"10 seconds\"),\"CreatedAt\").agg(sum(\"Followers\"),sum(\"ind\"))\\\n",
        ".drop(\"prediction\")"
      ],
      "execution_count": null,
      "outputs": []
    },
    {
      "cell_type": "code",
      "metadata": {
        "colab": {
          "base_uri": "https://localhost:8080/"
        },
        "id": "6H-f3f9ZiVgz",
        "outputId": "49cec6e1-7baa-4fae-bcf9-28ef3e8010d1"
      },
      "source": [
        "WinStreamDF11.writeStream.format(\"memory\").queryName(\"test11\").start()"
      ],
      "execution_count": null,
      "outputs": [
        {
          "output_type": "execute_result",
          "data": {
            "text/plain": [
              "<pyspark.sql.streaming.StreamingQuery at 0x7f3c14189f90>"
            ]
          },
          "metadata": {
            "tags": []
          },
          "execution_count": 36
        }
      ]
    },
    {
      "cell_type": "code",
      "metadata": {
        "colab": {
          "base_uri": "https://localhost:8080/"
        },
        "id": "kAtLw1LciW5V",
        "outputId": "1070153d-63c8-4a41-aee5-bf3ad1c1fe59"
      },
      "source": [
        "spark.sql(\"select * from test11\").show(truncate=False)"
      ],
      "execution_count": null,
      "outputs": [
        {
          "output_type": "stream",
          "text": [
            "+------------------------------------------+-------------------+--------------+--------+\n",
            "|window                                    |CreatedAt          |sum(Followers)|sum(ind)|\n",
            "+------------------------------------------+-------------------+--------------+--------+\n",
            "|{2021-05-31 22:40:00, 2021-05-31 22:40:10}|2021-05-31 22:40:04|194           |194.0   |\n",
            "|{2021-05-31 22:41:50, 2021-05-31 22:42:00}|2021-05-31 22:41:59|1181          |931.0   |\n",
            "|{2021-05-31 22:28:40, 2021-05-31 22:28:50}|2021-05-31 22:28:45|1686          |804.0   |\n",
            "|{2021-05-31 22:42:20, 2021-05-31 22:42:30}|2021-05-31 22:42:25|937           |937.0   |\n",
            "|{2021-05-31 22:42:10, 2021-05-31 22:42:20}|2021-05-31 22:42:16|535           |-535.0  |\n",
            "|{2021-05-31 22:43:30, 2021-05-31 22:43:40}|2021-05-31 22:43:32|3             |3.0     |\n",
            "|{2021-05-31 22:44:10, 2021-05-31 22:44:20}|2021-05-31 22:44:10|7             |7.0     |\n",
            "|{2021-05-31 22:29:40, 2021-05-31 22:29:50}|2021-05-31 22:29:43|1588          |-1202.0 |\n",
            "|{2021-05-31 22:42:10, 2021-05-31 22:42:20}|2021-05-31 22:42:18|8388          |6544.0  |\n",
            "|{2021-05-31 22:30:10, 2021-05-31 22:30:20}|2021-05-31 22:30:11|68961         |-66857.0|\n",
            "|{2021-05-31 22:30:50, 2021-05-31 22:31:00}|2021-05-31 22:30:59|228           |228.0   |\n",
            "|{2021-05-31 22:30:10, 2021-05-31 22:30:20}|2021-05-31 22:30:17|135338        |135338.0|\n",
            "|{2021-05-31 22:29:40, 2021-05-31 22:29:50}|2021-05-31 22:29:40|7194          |5956.0  |\n",
            "|{2021-05-31 22:29:20, 2021-05-31 22:29:30}|2021-05-31 22:29:29|51            |-51.0   |\n",
            "|{2021-05-31 22:31:30, 2021-05-31 22:31:40}|2021-05-31 22:31:34|6029          |-6029.0 |\n",
            "|{2021-05-31 22:42:50, 2021-05-31 22:43:00}|2021-05-31 22:42:59|4445          |-4273.0 |\n",
            "|{2021-05-31 22:40:20, 2021-05-31 22:40:30}|2021-05-31 22:40:27|798           |70.0    |\n",
            "|{2021-05-31 22:41:40, 2021-05-31 22:41:50}|2021-05-31 22:41:41|3673          |3673.0  |\n",
            "|{2021-05-31 22:42:40, 2021-05-31 22:42:50}|2021-05-31 22:42:40|22            |22.0    |\n",
            "|{2021-05-31 22:42:30, 2021-05-31 22:42:40}|2021-05-31 22:42:37|1862          |-1862.0 |\n",
            "+------------------------------------------+-------------------+--------------+--------+\n",
            "only showing top 20 rows\n",
            "\n"
          ],
          "name": "stdout"
        }
      ]
    },
    {
      "cell_type": "code",
      "metadata": {
        "id": "aOypv-v4iYai"
      },
      "source": [
        "WinStreamDF12 = predictionStreamTweets\\\n",
        ".withWatermark(\"CreatedAt\", \"360 seconds\") \\\n",
        ".withColumn(\"prediction\",(when(col(\"prediction\") == 0.0, -1).otherwise(col(\"prediction\"))))\\\n",
        ".withColumn(\"ind\", col(\"prediction\")*col(\"Followers\"))\\\n",
        ".groupBy(window(\"CreatedAt\", \"360 seconds\"),\"CreatedAt\").agg(sum(\"Followers\"),sum(\"ind\"))\\\n",
        ".withColumn(\"Score\", col(\"sum(ind)\")/col(\"sum(Followers)\"))\\\n",
        ".drop(\"prediction\")"
      ],
      "execution_count": null,
      "outputs": []
    },
    {
      "cell_type": "code",
      "metadata": {
        "colab": {
          "base_uri": "https://localhost:8080/"
        },
        "id": "i9rdtSoiiZwu",
        "outputId": "bc490e3f-79e4-42b0-f8bf-a9739757ba1e"
      },
      "source": [
        "WinStreamDF12.writeStream.format(\"memory\").queryName(\"test21\").start()"
      ],
      "execution_count": null,
      "outputs": [
        {
          "output_type": "execute_result",
          "data": {
            "text/plain": [
              "<pyspark.sql.streaming.StreamingQuery at 0x7f3c0f0f8710>"
            ]
          },
          "metadata": {
            "tags": []
          },
          "execution_count": 166
        }
      ]
    },
    {
      "cell_type": "code",
      "metadata": {
        "colab": {
          "base_uri": "https://localhost:8080/"
        },
        "id": "tL0MatphibPk",
        "outputId": "f46fc105-f4a8-486b-967e-167b383f8139"
      },
      "source": [
        "spark.sql(\"select * from test21\").show(truncate=False)"
      ],
      "execution_count": null,
      "outputs": [
        {
          "output_type": "stream",
          "text": [
            "+------------------------------------------+-------------------+--------------+--------+-------------------+\n",
            "|window                                    |CreatedAt          |sum(Followers)|sum(ind)|Score              |\n",
            "+------------------------------------------+-------------------+--------------+--------+-------------------+\n",
            "|{2021-05-31 22:30:00, 2021-05-31 22:36:00}|2021-05-31 22:31:51|23            |-23.0   |-1.0               |\n",
            "|{2021-05-31 22:30:00, 2021-05-31 22:36:00}|2021-05-31 22:31:11|201           |201.0   |1.0                |\n",
            "|{2021-05-31 22:30:00, 2021-05-31 22:36:00}|2021-05-31 22:30:39|1670          |-1284.0 |-0.7688622754491018|\n",
            "|{2021-05-31 22:30:00, 2021-05-31 22:36:00}|2021-05-31 22:32:00|491           |155.0   |0.31568228105906315|\n",
            "|{2021-05-31 22:24:00, 2021-05-31 22:30:00}|2021-05-31 22:28:41|336           |-336.0  |-1.0               |\n",
            "|{2021-05-31 22:30:00, 2021-05-31 22:36:00}|2021-05-31 22:32:05|677           |677.0   |1.0                |\n",
            "|{2021-05-31 22:30:00, 2021-05-31 22:36:00}|2021-05-31 22:30:25|324           |324.0   |1.0                |\n",
            "|{2021-05-31 22:24:00, 2021-05-31 22:30:00}|2021-05-31 22:29:02|776           |196.0   |0.25257731958762886|\n",
            "|{2021-05-31 22:24:00, 2021-05-31 22:30:00}|2021-05-31 22:29:33|3565          |3555.0  |0.9971949509116409 |\n",
            "|{2021-05-31 22:24:00, 2021-05-31 22:30:00}|2021-05-31 22:29:25|10048         |-1926.0 |-0.1916799363057325|\n",
            "|{2021-05-31 22:24:00, 2021-05-31 22:30:00}|2021-05-31 22:29:10|932           |-542.0  |-0.5815450643776824|\n",
            "|{2021-05-31 22:24:00, 2021-05-31 22:30:00}|2021-05-31 22:28:52|812           |-664.0  |-0.8177339901477833|\n",
            "|{2021-05-31 22:30:00, 2021-05-31 22:36:00}|2021-05-31 22:31:42|1334          |-1334.0 |-1.0               |\n",
            "|{2021-05-31 22:30:00, 2021-05-31 22:36:00}|2021-05-31 22:31:04|333           |-333.0  |-1.0               |\n",
            "|{2021-05-31 22:30:00, 2021-05-31 22:36:00}|2021-05-31 22:30:59|228           |228.0   |1.0                |\n",
            "|{2021-05-31 22:24:00, 2021-05-31 22:30:00}|2021-05-31 22:29:43|1588          |-1202.0 |-0.756926952141058 |\n",
            "|{2021-05-31 22:24:00, 2021-05-31 22:30:00}|2021-05-31 22:28:39|1943          |1583.0  |0.8147195059186825 |\n",
            "|{2021-05-31 22:30:00, 2021-05-31 22:36:00}|2021-05-31 22:30:04|43            |43.0    |1.0                |\n",
            "|{2021-05-31 22:30:00, 2021-05-31 22:36:00}|2021-05-31 22:32:04|7740          |7740.0  |1.0                |\n",
            "|{2021-05-31 22:30:00, 2021-05-31 22:36:00}|2021-05-31 22:31:33|70            |70.0    |1.0                |\n",
            "+------------------------------------------+-------------------+--------------+--------+-------------------+\n",
            "only showing top 20 rows\n",
            "\n"
          ],
          "name": "stdout"
        }
      ]
    },
    {
      "cell_type": "code",
      "metadata": {
        "id": "4GkxpmBPibJu"
      },
      "source": [
        ""
      ],
      "execution_count": null,
      "outputs": []
    },
    {
      "cell_type": "code",
      "metadata": {
        "id": "nTTMJ4HSqFBd"
      },
      "source": [
        ""
      ],
      "execution_count": null,
      "outputs": []
    },
    {
      "cell_type": "code",
      "metadata": {
        "id": "JuRW497Vqnl_"
      },
      "source": [
        ""
      ],
      "execution_count": null,
      "outputs": []
    },
    {
      "cell_type": "code",
      "metadata": {
        "id": "P2y4AKQIuCWR"
      },
      "source": [
        "WinStreamDF13 = predictionStreamTweets\\\n",
        ".withWatermark(\"CreatedAt\", \"1 seconds\") \\\n",
        ".withColumn(\"prediction\",(when(col(\"prediction\") == 0.0, -1).otherwise(col(\"prediction\"))))\\\n",
        ".withColumn(\"ind\", col(\"prediction\")*col(\"Followers\"))\\\n",
        ".groupBy(window(\"CreatedAt\", \"360 seconds\")).agg(sum(\"Followers\"),sum(\"ind\"), min(\"CreatedAt\"))\\\n",
        ".withColumn(\"Score\", col(\"sum(ind)\")/col(\"sum(Followers)\"))\\\n",
        ".withColumn(\"time\", col(\"window.start\"))\\\n",
        ".drop(\"prediction\")"
      ],
      "execution_count": 24,
      "outputs": []
    },
    {
      "cell_type": "code",
      "metadata": {
        "colab": {
          "base_uri": "https://localhost:8080/"
        },
        "id": "ti87fJpeuCPd",
        "outputId": "37488284-d7be-466c-df05-4d9702231195"
      },
      "source": [
        "WinStreamDF13.writeStream.format(\"memory\").queryName(\"test27\").start()"
      ],
      "execution_count": 25,
      "outputs": [
        {
          "output_type": "execute_result",
          "data": {
            "text/plain": [
              "<pyspark.sql.streaming.StreamingQuery at 0x7f11969e0c50>"
            ]
          },
          "metadata": {
            "tags": []
          },
          "execution_count": 25
        }
      ]
    },
    {
      "cell_type": "code",
      "metadata": {
        "colab": {
          "base_uri": "https://localhost:8080/"
        },
        "id": "iBcVDjuZuMuA",
        "outputId": "52be3515-7d06-48c4-8aff-d2a81a584b92"
      },
      "source": [
        "spark.sql(\"select * from test27\").show(truncate=False)"
      ],
      "execution_count": 33,
      "outputs": [
        {
          "output_type": "stream",
          "text": [
            "+------+--------------+--------+--------------+-----+----+\n",
            "|window|sum(Followers)|sum(ind)|min(CreatedAt)|Score|time|\n",
            "+------+--------------+--------+--------------+-----+----+\n",
            "+------+--------------+--------+--------------+-----+----+\n",
            "\n"
          ],
          "name": "stdout"
        }
      ]
    },
    {
      "cell_type": "code",
      "metadata": {
        "colab": {
          "base_uri": "https://localhost:8080/",
          "height": 282
        },
        "id": "OFBTzGwLqE6H",
        "outputId": "bf092dac-6322-4b16-f63e-e1ef585c7fbe"
      },
      "source": [
        "pdf = spark.sql(\"select * from test27\").select(\"window\", \"Score\", \"time\").toPandas()\n",
        "from matplotlib import pyplot as plt\n",
        "pdf.sort_values(by='time', inplace=True)\n",
        "plt.plot(pdf[\"time\"], pdf[\"Score\"])"
      ],
      "execution_count": 27,
      "outputs": [
        {
          "output_type": "execute_result",
          "data": {
            "text/plain": [
              "[<matplotlib.lines.Line2D at 0x7f11968c8d90>]"
            ]
          },
          "metadata": {
            "tags": []
          },
          "execution_count": 27
        },
        {
          "output_type": "display_data",
          "data": {
            "image/png": "[encoded data removed]",
            "text/plain": [
              "<Figure size 432x288 with 1 Axes>"
            ]
          },
          "metadata": {
            "tags": [],
            "needs_background": "light"
          }
        }
      ]
    },
    {
      "cell_type": "code",
      "metadata": {
        "id": "UD9CHi1UHqYX"
      },
      "source": [
        "spark.sql(\"select * from test27\").select(\"time\", \"Score\") \\\n",
        " .write.mode(\"append\") \\\n",
        " .save(\"/content/drive/MyDrive/datatochart.csv\",format=\"csv\")"
      ],
      "execution_count": null,
      "outputs": []
    },
    {
      "cell_type": "code",
      "metadata": {
        "colab": {
          "base_uri": "https://localhost:8080/",
          "height": 391
        },
        "id": "ZCoL_xbNUubO",
        "outputId": "61527ad0-62c4-4070-f0b3-d0f13a48a1ce"
      },
      "source": [
        "import pandas as pd\n",
        "pd.read_csv(\"/content/drive/MyDrive/datatochart\")"
      ],
      "execution_count": null,
      "outputs": [
        {
          "output_type": "error",
          "ename": "FileNotFoundError",
          "evalue": "ignored",
          "traceback": [
            "\u001b[0;31m---------------------------------------------------------------------------\u001b[0m",
            "\u001b[0;31mFileNotFoundError\u001b[0m                         Traceback (most recent call last)",
            "\u001b[0;32m<ipython-input-47-4b2384603fd4>\u001b[0m in \u001b[0;36m<module>\u001b[0;34m()\u001b[0m\n\u001b[1;32m      1\u001b[0m \u001b[0;32mimport\u001b[0m \u001b[0mpandas\u001b[0m \u001b[0;32mas\u001b[0m \u001b[0mpd\u001b[0m\u001b[0;34m\u001b[0m\u001b[0;34m\u001b[0m\u001b[0m\n\u001b[0;32m----> 2\u001b[0;31m \u001b[0mpd\u001b[0m\u001b[0;34m.\u001b[0m\u001b[0mread_csv\u001b[0m\u001b[0;34m(\u001b[0m\u001b[0;34m\"/content/drive/MyDrive/datatochart\"\u001b[0m\u001b[0;34m)\u001b[0m\u001b[0;34m\u001b[0m\u001b[0;34m\u001b[0m\u001b[0m\n\u001b[0m",
            "\u001b[0;32m/usr/local/lib/python3.7/dist-packages/pandas/io/parsers.py\u001b[0m in \u001b[0;36mread_csv\u001b[0;34m(filepath_or_buffer, sep, delimiter, header, names, index_col, usecols, squeeze, prefix, mangle_dupe_cols, dtype, engine, converters, true_values, false_values, skipinitialspace, skiprows, skipfooter, nrows, na_values, keep_default_na, na_filter, verbose, skip_blank_lines, parse_dates, infer_datetime_format, keep_date_col, date_parser, dayfirst, cache_dates, iterator, chunksize, compression, thousands, decimal, lineterminator, quotechar, quoting, doublequote, escapechar, comment, encoding, dialect, error_bad_lines, warn_bad_lines, delim_whitespace, low_memory, memory_map, float_precision)\u001b[0m\n\u001b[1;32m    686\u001b[0m     )\n\u001b[1;32m    687\u001b[0m \u001b[0;34m\u001b[0m\u001b[0m\n\u001b[0;32m--> 688\u001b[0;31m     \u001b[0;32mreturn\u001b[0m \u001b[0m_read\u001b[0m\u001b[0;34m(\u001b[0m\u001b[0mfilepath_or_buffer\u001b[0m\u001b[0;34m,\u001b[0m \u001b[0mkwds\u001b[0m\u001b[0;34m)\u001b[0m\u001b[0;34m\u001b[0m\u001b[0;34m\u001b[0m\u001b[0m\n\u001b[0m\u001b[1;32m    689\u001b[0m \u001b[0;34m\u001b[0m\u001b[0m\n\u001b[1;32m    690\u001b[0m \u001b[0;34m\u001b[0m\u001b[0m\n",
            "\u001b[0;32m/usr/local/lib/python3.7/dist-packages/pandas/io/parsers.py\u001b[0m in \u001b[0;36m_read\u001b[0;34m(filepath_or_buffer, kwds)\u001b[0m\n\u001b[1;32m    452\u001b[0m \u001b[0;34m\u001b[0m\u001b[0m\n\u001b[1;32m    453\u001b[0m     \u001b[0;31m# Create the parser.\u001b[0m\u001b[0;34m\u001b[0m\u001b[0;34m\u001b[0m\u001b[0;34m\u001b[0m\u001b[0m\n\u001b[0;32m--> 454\u001b[0;31m     \u001b[0mparser\u001b[0m \u001b[0;34m=\u001b[0m \u001b[0mTextFileReader\u001b[0m\u001b[0;34m(\u001b[0m\u001b[0mfp_or_buf\u001b[0m\u001b[0;34m,\u001b[0m \u001b[0;34m**\u001b[0m\u001b[0mkwds\u001b[0m\u001b[0;34m)\u001b[0m\u001b[0;34m\u001b[0m\u001b[0;34m\u001b[0m\u001b[0m\n\u001b[0m\u001b[1;32m    455\u001b[0m \u001b[0;34m\u001b[0m\u001b[0m\n\u001b[1;32m    456\u001b[0m     \u001b[0;32mif\u001b[0m \u001b[0mchunksize\u001b[0m \u001b[0;32mor\u001b[0m \u001b[0miterator\u001b[0m\u001b[0;34m:\u001b[0m\u001b[0;34m\u001b[0m\u001b[0;34m\u001b[0m\u001b[0m\n",
            "\u001b[0;32m/usr/local/lib/python3.7/dist-packages/pandas/io/parsers.py\u001b[0m in \u001b[0;36m__init__\u001b[0;34m(self, f, engine, **kwds)\u001b[0m\n\u001b[1;32m    946\u001b[0m             \u001b[0mself\u001b[0m\u001b[0;34m.\u001b[0m\u001b[0moptions\u001b[0m\u001b[0;34m[\u001b[0m\u001b[0;34m\"has_index_names\"\u001b[0m\u001b[0;34m]\u001b[0m \u001b[0;34m=\u001b[0m \u001b[0mkwds\u001b[0m\u001b[0;34m[\u001b[0m\u001b[0;34m\"has_index_names\"\u001b[0m\u001b[0;34m]\u001b[0m\u001b[0;34m\u001b[0m\u001b[0;34m\u001b[0m\u001b[0m\n\u001b[1;32m    947\u001b[0m \u001b[0;34m\u001b[0m\u001b[0m\n\u001b[0;32m--> 948\u001b[0;31m         \u001b[0mself\u001b[0m\u001b[0;34m.\u001b[0m\u001b[0m_make_engine\u001b[0m\u001b[0;34m(\u001b[0m\u001b[0mself\u001b[0m\u001b[0;34m.\u001b[0m\u001b[0mengine\u001b[0m\u001b[0;34m)\u001b[0m\u001b[0;34m\u001b[0m\u001b[0;34m\u001b[0m\u001b[0m\n\u001b[0m\u001b[1;32m    949\u001b[0m \u001b[0;34m\u001b[0m\u001b[0m\n\u001b[1;32m    950\u001b[0m     \u001b[0;32mdef\u001b[0m \u001b[0mclose\u001b[0m\u001b[0;34m(\u001b[0m\u001b[0mself\u001b[0m\u001b[0;34m)\u001b[0m\u001b[0;34m:\u001b[0m\u001b[0;34m\u001b[0m\u001b[0;34m\u001b[0m\u001b[0m\n",
            "\u001b[0;32m/usr/local/lib/python3.7/dist-packages/pandas/io/parsers.py\u001b[0m in \u001b[0;36m_make_engine\u001b[0;34m(self, engine)\u001b[0m\n\u001b[1;32m   1178\u001b[0m     \u001b[0;32mdef\u001b[0m \u001b[0m_make_engine\u001b[0m\u001b[0;34m(\u001b[0m\u001b[0mself\u001b[0m\u001b[0;34m,\u001b[0m \u001b[0mengine\u001b[0m\u001b[0;34m=\u001b[0m\u001b[0;34m\"c\"\u001b[0m\u001b[0;34m)\u001b[0m\u001b[0;34m:\u001b[0m\u001b[0;34m\u001b[0m\u001b[0;34m\u001b[0m\u001b[0m\n\u001b[1;32m   1179\u001b[0m         \u001b[0;32mif\u001b[0m \u001b[0mengine\u001b[0m \u001b[0;34m==\u001b[0m \u001b[0;34m\"c\"\u001b[0m\u001b[0;34m:\u001b[0m\u001b[0;34m\u001b[0m\u001b[0;34m\u001b[0m\u001b[0m\n\u001b[0;32m-> 1180\u001b[0;31m             \u001b[0mself\u001b[0m\u001b[0;34m.\u001b[0m\u001b[0m_engine\u001b[0m \u001b[0;34m=\u001b[0m \u001b[0mCParserWrapper\u001b[0m\u001b[0;34m(\u001b[0m\u001b[0mself\u001b[0m\u001b[0;34m.\u001b[0m\u001b[0mf\u001b[0m\u001b[0;34m,\u001b[0m \u001b[0;34m**\u001b[0m\u001b[0mself\u001b[0m\u001b[0;34m.\u001b[0m\u001b[0moptions\u001b[0m\u001b[0;34m)\u001b[0m\u001b[0;34m\u001b[0m\u001b[0;34m\u001b[0m\u001b[0m\n\u001b[0m\u001b[1;32m   1181\u001b[0m         \u001b[0;32melse\u001b[0m\u001b[0;34m:\u001b[0m\u001b[0;34m\u001b[0m\u001b[0;34m\u001b[0m\u001b[0m\n\u001b[1;32m   1182\u001b[0m             \u001b[0;32mif\u001b[0m \u001b[0mengine\u001b[0m \u001b[0;34m==\u001b[0m \u001b[0;34m\"python\"\u001b[0m\u001b[0;34m:\u001b[0m\u001b[0;34m\u001b[0m\u001b[0;34m\u001b[0m\u001b[0m\n",
            "\u001b[0;32m/usr/local/lib/python3.7/dist-packages/pandas/io/parsers.py\u001b[0m in \u001b[0;36m__init__\u001b[0;34m(self, src, **kwds)\u001b[0m\n\u001b[1;32m   2008\u001b[0m         \u001b[0mkwds\u001b[0m\u001b[0;34m[\u001b[0m\u001b[0;34m\"usecols\"\u001b[0m\u001b[0;34m]\u001b[0m \u001b[0;34m=\u001b[0m \u001b[0mself\u001b[0m\u001b[0;34m.\u001b[0m\u001b[0musecols\u001b[0m\u001b[0;34m\u001b[0m\u001b[0;34m\u001b[0m\u001b[0m\n\u001b[1;32m   2009\u001b[0m \u001b[0;34m\u001b[0m\u001b[0m\n\u001b[0;32m-> 2010\u001b[0;31m         \u001b[0mself\u001b[0m\u001b[0;34m.\u001b[0m\u001b[0m_reader\u001b[0m \u001b[0;34m=\u001b[0m \u001b[0mparsers\u001b[0m\u001b[0;34m.\u001b[0m\u001b[0mTextReader\u001b[0m\u001b[0;34m(\u001b[0m\u001b[0msrc\u001b[0m\u001b[0;34m,\u001b[0m \u001b[0;34m**\u001b[0m\u001b[0mkwds\u001b[0m\u001b[0;34m)\u001b[0m\u001b[0;34m\u001b[0m\u001b[0;34m\u001b[0m\u001b[0m\n\u001b[0m\u001b[1;32m   2011\u001b[0m         \u001b[0mself\u001b[0m\u001b[0;34m.\u001b[0m\u001b[0munnamed_cols\u001b[0m \u001b[0;34m=\u001b[0m \u001b[0mself\u001b[0m\u001b[0;34m.\u001b[0m\u001b[0m_reader\u001b[0m\u001b[0;34m.\u001b[0m\u001b[0munnamed_cols\u001b[0m\u001b[0;34m\u001b[0m\u001b[0;34m\u001b[0m\u001b[0m\n\u001b[1;32m   2012\u001b[0m \u001b[0;34m\u001b[0m\u001b[0m\n",
            "\u001b[0;32mpandas/_libs/parsers.pyx\u001b[0m in \u001b[0;36mpandas._libs.parsers.TextReader.__cinit__\u001b[0;34m()\u001b[0m\n",
            "\u001b[0;32mpandas/_libs/parsers.pyx\u001b[0m in \u001b[0;36mpandas._libs.parsers.TextReader._setup_parser_source\u001b[0;34m()\u001b[0m\n",
            "\u001b[0;31mFileNotFoundError\u001b[0m: [Errno 2] No such file or directory: '/content/drive/MyDrive/datatochart'"
          ]
        }
      ]
    },
    {
      "cell_type": "code",
      "metadata": {
        "id": "zMRZZlU0XPPd",
        "colab": {
          "base_uri": "https://localhost:8080/",
          "height": 408
        },
        "outputId": "c64408fe-6631-4e50-b016-61df523071ad"
      },
      "source": [
        "import time\n",
        "df = spark.sql(\"select * from test27\").toPandas()\n",
        "DF = df\n",
        "i = 1\n",
        "while i<20:\n",
        "  df = spark.sql(\"select * from test26\").toPandas()\n",
        "  DF = DF.append(df).drop_duplicates()\n",
        "  time.sleep(5)\n",
        "  i = i+1"
      ],
      "execution_count": 28,
      "outputs": [
        {
          "output_type": "error",
          "ename": "AnalysisException",
          "evalue": "ignored",
          "traceback": [
            "\u001b[0;31m---------------------------------------------------------------------------\u001b[0m",
            "\u001b[0;31mAnalysisException\u001b[0m                         Traceback (most recent call last)",
            "\u001b[0;32m<ipython-input-28-94b025cbbedd>\u001b[0m in \u001b[0;36m<module>\u001b[0;34m()\u001b[0m\n\u001b[1;32m      4\u001b[0m \u001b[0mi\u001b[0m \u001b[0;34m=\u001b[0m \u001b[0;36m1\u001b[0m\u001b[0;34m\u001b[0m\u001b[0;34m\u001b[0m\u001b[0m\n\u001b[1;32m      5\u001b[0m \u001b[0;32mwhile\u001b[0m \u001b[0mi\u001b[0m\u001b[0;34m<\u001b[0m\u001b[0;36m20\u001b[0m\u001b[0;34m:\u001b[0m\u001b[0;34m\u001b[0m\u001b[0;34m\u001b[0m\u001b[0m\n\u001b[0;32m----> 6\u001b[0;31m   \u001b[0mdf\u001b[0m \u001b[0;34m=\u001b[0m \u001b[0mspark\u001b[0m\u001b[0;34m.\u001b[0m\u001b[0msql\u001b[0m\u001b[0;34m(\u001b[0m\u001b[0;34m\"select * from test26\"\u001b[0m\u001b[0;34m)\u001b[0m\u001b[0;34m.\u001b[0m\u001b[0mtoPandas\u001b[0m\u001b[0;34m(\u001b[0m\u001b[0;34m)\u001b[0m\u001b[0;34m\u001b[0m\u001b[0;34m\u001b[0m\u001b[0m\n\u001b[0m\u001b[1;32m      7\u001b[0m   \u001b[0mDF\u001b[0m \u001b[0;34m=\u001b[0m \u001b[0mDF\u001b[0m\u001b[0;34m.\u001b[0m\u001b[0mappend\u001b[0m\u001b[0;34m(\u001b[0m\u001b[0mdf\u001b[0m\u001b[0;34m)\u001b[0m\u001b[0;34m.\u001b[0m\u001b[0mdrop_duplicates\u001b[0m\u001b[0;34m(\u001b[0m\u001b[0;34m)\u001b[0m\u001b[0;34m\u001b[0m\u001b[0;34m\u001b[0m\u001b[0m\n\u001b[1;32m      8\u001b[0m   \u001b[0mtime\u001b[0m\u001b[0;34m.\u001b[0m\u001b[0msleep\u001b[0m\u001b[0;34m(\u001b[0m\u001b[0;36m5\u001b[0m\u001b[0;34m)\u001b[0m\u001b[0;34m\u001b[0m\u001b[0;34m\u001b[0m\u001b[0m\n",
            "\u001b[0;32m/usr/local/lib/python3.7/dist-packages/pyspark/sql/session.py\u001b[0m in \u001b[0;36msql\u001b[0;34m(self, sqlQuery)\u001b[0m\n\u001b[1;32m    721\u001b[0m         \u001b[0;34m[\u001b[0m\u001b[0mRow\u001b[0m\u001b[0;34m(\u001b[0m\u001b[0mf1\u001b[0m\u001b[0;34m=\u001b[0m\u001b[0;36m1\u001b[0m\u001b[0;34m,\u001b[0m \u001b[0mf2\u001b[0m\u001b[0;34m=\u001b[0m\u001b[0;34m'row1'\u001b[0m\u001b[0;34m)\u001b[0m\u001b[0;34m,\u001b[0m \u001b[0mRow\u001b[0m\u001b[0;34m(\u001b[0m\u001b[0mf1\u001b[0m\u001b[0;34m=\u001b[0m\u001b[0;36m2\u001b[0m\u001b[0;34m,\u001b[0m \u001b[0mf2\u001b[0m\u001b[0;34m=\u001b[0m\u001b[0;34m'row2'\u001b[0m\u001b[0;34m)\u001b[0m\u001b[0;34m,\u001b[0m \u001b[0mRow\u001b[0m\u001b[0;34m(\u001b[0m\u001b[0mf1\u001b[0m\u001b[0;34m=\u001b[0m\u001b[0;36m3\u001b[0m\u001b[0;34m,\u001b[0m \u001b[0mf2\u001b[0m\u001b[0;34m=\u001b[0m\u001b[0;34m'row3'\u001b[0m\u001b[0;34m)\u001b[0m\u001b[0;34m]\u001b[0m\u001b[0;34m\u001b[0m\u001b[0;34m\u001b[0m\u001b[0m\n\u001b[1;32m    722\u001b[0m         \"\"\"\n\u001b[0;32m--> 723\u001b[0;31m         \u001b[0;32mreturn\u001b[0m \u001b[0mDataFrame\u001b[0m\u001b[0;34m(\u001b[0m\u001b[0mself\u001b[0m\u001b[0;34m.\u001b[0m\u001b[0m_jsparkSession\u001b[0m\u001b[0;34m.\u001b[0m\u001b[0msql\u001b[0m\u001b[0;34m(\u001b[0m\u001b[0msqlQuery\u001b[0m\u001b[0;34m)\u001b[0m\u001b[0;34m,\u001b[0m \u001b[0mself\u001b[0m\u001b[0;34m.\u001b[0m\u001b[0m_wrapped\u001b[0m\u001b[0;34m)\u001b[0m\u001b[0;34m\u001b[0m\u001b[0;34m\u001b[0m\u001b[0m\n\u001b[0m\u001b[1;32m    724\u001b[0m \u001b[0;34m\u001b[0m\u001b[0m\n\u001b[1;32m    725\u001b[0m     \u001b[0;32mdef\u001b[0m \u001b[0mtable\u001b[0m\u001b[0;34m(\u001b[0m\u001b[0mself\u001b[0m\u001b[0;34m,\u001b[0m \u001b[0mtableName\u001b[0m\u001b[0;34m)\u001b[0m\u001b[0;34m:\u001b[0m\u001b[0;34m\u001b[0m\u001b[0;34m\u001b[0m\u001b[0m\n",
            "\u001b[0;32m/usr/local/lib/python3.7/dist-packages/py4j/java_gateway.py\u001b[0m in \u001b[0;36m__call__\u001b[0;34m(self, *args)\u001b[0m\n\u001b[1;32m   1303\u001b[0m         \u001b[0manswer\u001b[0m \u001b[0;34m=\u001b[0m \u001b[0mself\u001b[0m\u001b[0;34m.\u001b[0m\u001b[0mgateway_client\u001b[0m\u001b[0;34m.\u001b[0m\u001b[0msend_command\u001b[0m\u001b[0;34m(\u001b[0m\u001b[0mcommand\u001b[0m\u001b[0;34m)\u001b[0m\u001b[0;34m\u001b[0m\u001b[0;34m\u001b[0m\u001b[0m\n\u001b[1;32m   1304\u001b[0m         return_value = get_return_value(\n\u001b[0;32m-> 1305\u001b[0;31m             answer, self.gateway_client, self.target_id, self.name)\n\u001b[0m\u001b[1;32m   1306\u001b[0m \u001b[0;34m\u001b[0m\u001b[0m\n\u001b[1;32m   1307\u001b[0m         \u001b[0;32mfor\u001b[0m \u001b[0mtemp_arg\u001b[0m \u001b[0;32min\u001b[0m \u001b[0mtemp_args\u001b[0m\u001b[0;34m:\u001b[0m\u001b[0;34m\u001b[0m\u001b[0;34m\u001b[0m\u001b[0m\n",
            "\u001b[0;32m/usr/local/lib/python3.7/dist-packages/pyspark/sql/utils.py\u001b[0m in \u001b[0;36mdeco\u001b[0;34m(*a, **kw)\u001b[0m\n\u001b[1;32m    115\u001b[0m                 \u001b[0;31m# Hide where the exception came from that shows a non-Pythonic\u001b[0m\u001b[0;34m\u001b[0m\u001b[0;34m\u001b[0m\u001b[0;34m\u001b[0m\u001b[0m\n\u001b[1;32m    116\u001b[0m                 \u001b[0;31m# JVM exception message.\u001b[0m\u001b[0;34m\u001b[0m\u001b[0;34m\u001b[0m\u001b[0;34m\u001b[0m\u001b[0m\n\u001b[0;32m--> 117\u001b[0;31m                 \u001b[0;32mraise\u001b[0m \u001b[0mconverted\u001b[0m \u001b[0;32mfrom\u001b[0m \u001b[0;32mNone\u001b[0m\u001b[0;34m\u001b[0m\u001b[0;34m\u001b[0m\u001b[0m\n\u001b[0m\u001b[1;32m    118\u001b[0m             \u001b[0;32melse\u001b[0m\u001b[0;34m:\u001b[0m\u001b[0;34m\u001b[0m\u001b[0;34m\u001b[0m\u001b[0m\n\u001b[1;32m    119\u001b[0m                 \u001b[0;32mraise\u001b[0m\u001b[0;34m\u001b[0m\u001b[0;34m\u001b[0m\u001b[0m\n",
            "\u001b[0;31mAnalysisException\u001b[0m: Table or view not found: test26; line 1 pos 14;\n'Project [*]\n+- 'UnresolvedRelation [test26], [], false\n"
          ]
        }
      ]
    },
    {
      "cell_type": "code",
      "metadata": {
        "colab": {
          "base_uri": "https://localhost:8080/",
          "height": 607
        },
        "id": "QO_SS7wMYqQX",
        "outputId": "6f7ae6ef-0668-4aeb-badf-acf2de7760db"
      },
      "source": [
        "DF"
      ],
      "execution_count": null,
      "outputs": [
        {
          "output_type": "execute_result",
          "data": {
            "text/html": [
              "<div>\n",
              "<style scoped>\n",
              "    .dataframe tbody tr th:only-of-type {\n",
              "        vertical-align: middle;\n",
              "    }\n",
              "\n",
              "    .dataframe tbody tr th {\n",
              "        vertical-align: top;\n",
              "    }\n",
              "\n",
              "    .dataframe thead th {\n",
              "        text-align: right;\n",
              "    }\n",
              "</style>\n",
              "<table border=\"1\" class=\"dataframe\">\n",
              "  <thead>\n",
              "    <tr style=\"text-align: right;\">\n",
              "      <th></th>\n",
              "      <th>window</th>\n",
              "      <th>sum(Followers)</th>\n",
              "      <th>sum(ind)</th>\n",
              "      <th>min(CreatedAt)</th>\n",
              "      <th>Score</th>\n",
              "      <th>time</th>\n",
              "    </tr>\n",
              "  </thead>\n",
              "  <tbody>\n",
              "    <tr>\n",
              "      <th>0</th>\n",
              "      <td>(2021-05-31 22:36:00, 2021-05-31 22:42:00)</td>\n",
              "      <td>725441</td>\n",
              "      <td>104347.0</td>\n",
              "      <td>2021-05-31 22:39:37</td>\n",
              "      <td>0.143839</td>\n",
              "      <td>2021-05-31 22:36:00</td>\n",
              "    </tr>\n",
              "    <tr>\n",
              "      <th>1</th>\n",
              "      <td>(2021-05-31 22:30:00, 2021-05-31 22:36:00)</td>\n",
              "      <td>4541327</td>\n",
              "      <td>-2482127.0</td>\n",
              "      <td>2021-05-31 22:30:00</td>\n",
              "      <td>-0.546564</td>\n",
              "      <td>2021-05-31 22:30:00</td>\n",
              "    </tr>\n",
              "    <tr>\n",
              "      <th>2</th>\n",
              "      <td>(2021-05-31 22:24:00, 2021-05-31 22:30:00)</td>\n",
              "      <td>226767</td>\n",
              "      <td>44453.0</td>\n",
              "      <td>2021-05-31 22:28:30</td>\n",
              "      <td>0.196029</td>\n",
              "      <td>2021-05-31 22:24:00</td>\n",
              "    </tr>\n",
              "    <tr>\n",
              "      <th>3</th>\n",
              "      <td>(2021-05-31 22:54:00, 2021-05-31 23:00:00)</td>\n",
              "      <td>1975208</td>\n",
              "      <td>115602.0</td>\n",
              "      <td>2021-05-31 22:54:53</td>\n",
              "      <td>0.058526</td>\n",
              "      <td>2021-05-31 22:54:00</td>\n",
              "    </tr>\n",
              "    <tr>\n",
              "      <th>4</th>\n",
              "      <td>(2021-05-31 22:42:00, 2021-05-31 22:48:00)</td>\n",
              "      <td>781579</td>\n",
              "      <td>497215.0</td>\n",
              "      <td>2021-05-31 22:42:00</td>\n",
              "      <td>0.636167</td>\n",
              "      <td>2021-05-31 22:42:00</td>\n",
              "    </tr>\n",
              "    <tr>\n",
              "      <th>5</th>\n",
              "      <td>(2021-05-31 23:06:00, 2021-05-31 23:12:00)</td>\n",
              "      <td>885342</td>\n",
              "      <td>586308.0</td>\n",
              "      <td>2021-05-31 23:09:30</td>\n",
              "      <td>0.662239</td>\n",
              "      <td>2021-05-31 23:06:00</td>\n",
              "    </tr>\n",
              "    <tr>\n",
              "      <th>6</th>\n",
              "      <td>(2021-05-31 23:12:00, 2021-05-31 23:18:00)</td>\n",
              "      <td>991283</td>\n",
              "      <td>-104149.0</td>\n",
              "      <td>2021-05-31 23:12:00</td>\n",
              "      <td>-0.105065</td>\n",
              "      <td>2021-05-31 23:12:00</td>\n",
              "    </tr>\n",
              "    <tr>\n",
              "      <th>7</th>\n",
              "      <td>(2021-05-31 23:24:00, 2021-05-31 23:30:00)</td>\n",
              "      <td>3815662</td>\n",
              "      <td>-1103344.0</td>\n",
              "      <td>2021-05-31 23:24:35</td>\n",
              "      <td>-0.289162</td>\n",
              "      <td>2021-05-31 23:24:00</td>\n",
              "    </tr>\n",
              "    <tr>\n",
              "      <th>8</th>\n",
              "      <td>(2021-05-31 23:36:00, 2021-05-31 23:42:00)</td>\n",
              "      <td>1831191</td>\n",
              "      <td>-992561.0</td>\n",
              "      <td>2021-05-31 23:39:54</td>\n",
              "      <td>-0.542030</td>\n",
              "      <td>2021-05-31 23:36:00</td>\n",
              "    </tr>\n",
              "    <tr>\n",
              "      <th>9</th>\n",
              "      <td>(2021-05-31 23:54:00, 2021-06-01 00:00:00)</td>\n",
              "      <td>1856193</td>\n",
              "      <td>350289.0</td>\n",
              "      <td>2021-05-31 23:54:46</td>\n",
              "      <td>0.188714</td>\n",
              "      <td>2021-05-31 23:54:00</td>\n",
              "    </tr>\n",
              "    <tr>\n",
              "      <th>10</th>\n",
              "      <td>(2021-05-31 23:42:00, 2021-05-31 23:48:00)</td>\n",
              "      <td>1221728</td>\n",
              "      <td>607436.0</td>\n",
              "      <td>2021-05-31 23:42:00</td>\n",
              "      <td>0.497194</td>\n",
              "      <td>2021-05-31 23:42:00</td>\n",
              "    </tr>\n",
              "    <tr>\n",
              "      <th>11</th>\n",
              "      <td>(2021-06-01 00:00:00, 2021-06-01 00:06:00)</td>\n",
              "      <td>428565</td>\n",
              "      <td>13937.0</td>\n",
              "      <td>2021-06-01 00:00:00</td>\n",
              "      <td>0.032520</td>\n",
              "      <td>2021-06-01 00:00:00</td>\n",
              "    </tr>\n",
              "    <tr>\n",
              "      <th>12</th>\n",
              "      <td>(2021-06-01 00:06:00, 2021-06-01 00:12:00)</td>\n",
              "      <td>831777</td>\n",
              "      <td>-25057.0</td>\n",
              "      <td>2021-06-01 00:09:29</td>\n",
              "      <td>-0.030125</td>\n",
              "      <td>2021-06-01 00:06:00</td>\n",
              "    </tr>\n",
              "    <tr>\n",
              "      <th>13</th>\n",
              "      <td>(2021-06-01 00:12:00, 2021-06-01 00:18:00)</td>\n",
              "      <td>1345323</td>\n",
              "      <td>-649349.0</td>\n",
              "      <td>2021-06-01 00:12:01</td>\n",
              "      <td>-0.482671</td>\n",
              "      <td>2021-06-01 00:12:00</td>\n",
              "    </tr>\n",
              "    <tr>\n",
              "      <th>14</th>\n",
              "      <td>(2021-06-01 00:42:00, 2021-06-01 00:48:00)</td>\n",
              "      <td>3285985</td>\n",
              "      <td>-1759849.0</td>\n",
              "      <td>2021-06-01 00:42:00</td>\n",
              "      <td>-0.535562</td>\n",
              "      <td>2021-06-01 00:42:00</td>\n",
              "    </tr>\n",
              "    <tr>\n",
              "      <th>15</th>\n",
              "      <td>(2021-06-01 00:36:00, 2021-06-01 00:42:00)</td>\n",
              "      <td>226992</td>\n",
              "      <td>-45414.0</td>\n",
              "      <td>2021-06-01 00:40:13</td>\n",
              "      <td>-0.200069</td>\n",
              "      <td>2021-06-01 00:36:00</td>\n",
              "    </tr>\n",
              "    <tr>\n",
              "      <th>16</th>\n",
              "      <td>(2021-06-01 00:24:00, 2021-06-01 00:30:00)</td>\n",
              "      <td>2067788</td>\n",
              "      <td>766914.0</td>\n",
              "      <td>2021-06-01 00:25:08</td>\n",
              "      <td>0.370886</td>\n",
              "      <td>2021-06-01 00:24:00</td>\n",
              "    </tr>\n",
              "    <tr>\n",
              "      <th>17</th>\n",
              "      <td>(2021-06-01 00:30:00, 2021-06-01 00:36:00)</td>\n",
              "      <td>350392</td>\n",
              "      <td>-42428.0</td>\n",
              "      <td>2021-06-01 00:30:00</td>\n",
              "      <td>-0.121087</td>\n",
              "      <td>2021-06-01 00:30:00</td>\n",
              "    </tr>\n",
              "  </tbody>\n",
              "</table>\n",
              "</div>"
            ],
            "text/plain": [
              "                                        window  ...                time\n",
              "0   (2021-05-31 22:36:00, 2021-05-31 22:42:00)  ... 2021-05-31 22:36:00\n",
              "1   (2021-05-31 22:30:00, 2021-05-31 22:36:00)  ... 2021-05-31 22:30:00\n",
              "2   (2021-05-31 22:24:00, 2021-05-31 22:30:00)  ... 2021-05-31 22:24:00\n",
              "3   (2021-05-31 22:54:00, 2021-05-31 23:00:00)  ... 2021-05-31 22:54:00\n",
              "4   (2021-05-31 22:42:00, 2021-05-31 22:48:00)  ... 2021-05-31 22:42:00\n",
              "5   (2021-05-31 23:06:00, 2021-05-31 23:12:00)  ... 2021-05-31 23:06:00\n",
              "6   (2021-05-31 23:12:00, 2021-05-31 23:18:00)  ... 2021-05-31 23:12:00\n",
              "7   (2021-05-31 23:24:00, 2021-05-31 23:30:00)  ... 2021-05-31 23:24:00\n",
              "8   (2021-05-31 23:36:00, 2021-05-31 23:42:00)  ... 2021-05-31 23:36:00\n",
              "9   (2021-05-31 23:54:00, 2021-06-01 00:00:00)  ... 2021-05-31 23:54:00\n",
              "10  (2021-05-31 23:42:00, 2021-05-31 23:48:00)  ... 2021-05-31 23:42:00\n",
              "11  (2021-06-01 00:00:00, 2021-06-01 00:06:00)  ... 2021-06-01 00:00:00\n",
              "12  (2021-06-01 00:06:00, 2021-06-01 00:12:00)  ... 2021-06-01 00:06:00\n",
              "13  (2021-06-01 00:12:00, 2021-06-01 00:18:00)  ... 2021-06-01 00:12:00\n",
              "14  (2021-06-01 00:42:00, 2021-06-01 00:48:00)  ... 2021-06-01 00:42:00\n",
              "15  (2021-06-01 00:36:00, 2021-06-01 00:42:00)  ... 2021-06-01 00:36:00\n",
              "16  (2021-06-01 00:24:00, 2021-06-01 00:30:00)  ... 2021-06-01 00:24:00\n",
              "17  (2021-06-01 00:30:00, 2021-06-01 00:36:00)  ... 2021-06-01 00:30:00\n",
              "\n",
              "[18 rows x 6 columns]"
            ]
          },
          "metadata": {
            "tags": []
          },
          "execution_count": 79
        }
      ]
    },
    {
      "cell_type": "code",
      "metadata": {
        "id": "4pLXPhIznwh_"
      },
      "source": [
        "pip install jupyter-dash -q"
      ],
      "execution_count": 1,
      "outputs": []
    },
    {
      "cell_type": "code",
      "metadata": {
        "id": "j-Cv5sZ9nzDy"
      },
      "source": [
        "pip install dash-cytoscape -q"
      ],
      "execution_count": 2,
      "outputs": []
    },
    {
      "cell_type": "code",
      "metadata": {
        "colab": {
          "base_uri": "https://localhost:8080/"
        },
        "id": "Jpe-imKhqiY7",
        "outputId": "53f3b064-c92d-4b51-8879-0f5f0cd4c322"
      },
      "source": [
        "pip install dash\n"
      ],
      "execution_count": null,
      "outputs": [
        {
          "output_type": "stream",
          "text": [
            "Requirement already satisfied: dash in /usr/local/lib/python3.7/dist-packages (1.20.0)\n",
            "Requirement already satisfied: dash-html-components==1.1.3 in /usr/local/lib/python3.7/dist-packages (from dash) (1.1.3)\n",
            "Requirement already satisfied: dash-core-components==1.16.0 in /usr/local/lib/python3.7/dist-packages (from dash) (1.16.0)\n",
            "Requirement already satisfied: dash-table==4.11.3 in /usr/local/lib/python3.7/dist-packages (from dash) (4.11.3)\n",
            "Requirement already satisfied: dash-renderer==1.9.1 in /usr/local/lib/python3.7/dist-packages (from dash) (1.9.1)\n",
            "Requirement already satisfied: flask-compress in /usr/local/lib/python3.7/dist-packages (from dash) (1.9.0)\n",
            "Requirement already satisfied: future in /usr/local/lib/python3.7/dist-packages (from dash) (0.16.0)\n",
            "Requirement already satisfied: plotly in /usr/local/lib/python3.7/dist-packages (from dash) (4.4.1)\n",
            "Requirement already satisfied: Flask>=1.0.4 in /usr/local/lib/python3.7/dist-packages (from dash) (1.1.4)\n",
            "Requirement already satisfied: brotli in /usr/local/lib/python3.7/dist-packages (from flask-compress->dash) (1.0.9)\n",
            "Requirement already satisfied: retrying>=1.3.3 in /usr/local/lib/python3.7/dist-packages (from plotly->dash) (1.3.3)\n",
            "Requirement already satisfied: six in /usr/local/lib/python3.7/dist-packages (from plotly->dash) (1.15.0)\n",
            "Requirement already satisfied: itsdangerous<2.0,>=0.24 in /usr/local/lib/python3.7/dist-packages (from Flask>=1.0.4->dash) (1.1.0)\n",
            "Requirement already satisfied: Jinja2<3.0,>=2.10.1 in /usr/local/lib/python3.7/dist-packages (from Flask>=1.0.4->dash) (2.11.3)\n",
            "Requirement already satisfied: Werkzeug<2.0,>=0.15 in /usr/local/lib/python3.7/dist-packages (from Flask>=1.0.4->dash) (1.0.1)\n",
            "Requirement already satisfied: click<8.0,>=5.1 in /usr/local/lib/python3.7/dist-packages (from Flask>=1.0.4->dash) (7.1.2)\n",
            "Requirement already satisfied: MarkupSafe>=0.23 in /usr/local/lib/python3.7/dist-packages (from Jinja2<3.0,>=2.10.1->Flask>=1.0.4->dash) (2.0.1)\n"
          ],
          "name": "stdout"
        }
      ]
    },
    {
      "cell_type": "markdown",
      "metadata": {
        "id": "dVpt60iwxBeq"
      },
      "source": [
        "# Nowa sekcja"
      ]
    },
    {
      "cell_type": "code",
      "metadata": {
        "colab": {
          "base_uri": "https://localhost:8080/"
        },
        "id": "NpW4oJYDqn2x",
        "outputId": "01e17318-dbb9-4bc0-99f8-ae842c456a0e"
      },
      "source": [
        "pip install plotly"
      ],
      "execution_count": null,
      "outputs": [
        {
          "output_type": "stream",
          "text": [
            "Requirement already satisfied: plotly in /usr/local/lib/python3.7/dist-packages (4.4.1)\n",
            "Requirement already satisfied: six in /usr/local/lib/python3.7/dist-packages (from plotly) (1.15.0)\n",
            "Requirement already satisfied: retrying>=1.3.3 in /usr/local/lib/python3.7/dist-packages (from plotly) (1.3.3)\n"
          ],
          "name": "stdout"
        }
      ]
    },
    {
      "cell_type": "code",
      "metadata": {
        "id": "eR9O5BAnn2-c"
      },
      "source": [
        "from jupyter_dash import JupyterDash  # pip install dash\n",
        "import dash_cytoscape as cyto  # pip install dash-cytoscape==0.2.0 or higher\n",
        "import dash_html_components as html\n",
        "import dash_core_components as dcc\n",
        "from dash.dependencies import Output, Input\n",
        "#import plotly.express as px\n",
        "#import math\n",
        "#from dash import no_update\n",
        "\n"
      ],
      "execution_count": 3,
      "outputs": []
    },
    {
      "cell_type": "code",
      "metadata": {
        "id": "HKCkvCAgn3z1"
      },
      "source": [
        "from jupyter_dash import JupyterDash  # pip install dash\n",
        "import dash_cytoscape as cyto  # pip install dash-cytoscape==0.2.0 or higher\n",
        "import dash\n",
        "from dash.dependencies import Output, Input\n",
        "import dash_core_components as dcc\n",
        "import dash_html_components as html\n",
        "import plotly\n",
        "import random\n",
        "import plotly.graph_objs as go\n",
        "from collections import deque\n",
        "  \n",
        "\n",
        " "
      ],
      "execution_count": 4,
      "outputs": []
    },
    {
      "cell_type": "code",
      "metadata": {
        "colab": {
          "base_uri": "https://localhost:8080/"
        },
        "id": "tP4ayriIvd2B",
        "outputId": "9648b8d8-6f3b-4c83-e311-13d4e58b3df9"
      },
      "source": [
        "X = deque(maxlen = 20)\n",
        "X.append(1)\n",
        "  \n",
        "Y = deque(maxlen = 20)\n",
        "Y.append(1)\n",
        "Y"
      ],
      "execution_count": 5,
      "outputs": [
        {
          "output_type": "execute_result",
          "data": {
            "text/plain": [
              "deque([1])"
            ]
          },
          "metadata": {
            "tags": []
          },
          "execution_count": 5
        }
      ]
    },
    {
      "cell_type": "code",
      "metadata": {
        "id": "-jm5M8WiqzRy",
        "colab": {
          "base_uri": "https://localhost:8080/",
          "height": 671
        },
        "outputId": "e21aeddb-b7ee-4593-8e0b-db21d2201227"
      },
      "source": [
        " \n",
        "app = JupyterDash(__name__)\n",
        "  \n",
        "app.layout = html.Div(\n",
        "    [\n",
        "        dcc.Graph(id = 'live-graph', animate = True),\n",
        "        dcc.Interval(\n",
        "            id = 'graph-update',\n",
        "            interval = 1000,\n",
        "            n_intervals = 0\n",
        "        ),\n",
        "    ]\n",
        ")\n",
        "  \n",
        "@app.callback(\n",
        "    Output('live-graph', 'figure'),\n",
        "    [ Input('graph-update', 'n_intervals') ]\n",
        ")\n",
        "  \n",
        "def update_graph_scatter(n_intervals):\n",
        "    X.append(X[-1]+1)\n",
        "    Y.append(Y[-1]+Y[-1] * random.uniform(-0.1,0.1))\n",
        "  \n",
        "    data = plotly.graph_objs.Scatter(\n",
        "            x=list(X),\n",
        "            y=list(Y),\n",
        "            name='Scatter',\n",
        "            mode= 'lines+markers'\n",
        "    )\n",
        "  \n",
        "    return {'data': [data],\n",
        "            'layout' : go.Layout(xaxis=dict(range=[min(X),max(X)]),yaxis = dict(range = [min(Y),max(Y)]),)}\n",
        "  \n",
        "if __name__ == '__main__':\n",
        "    app.run_server(mode = 'inline')"
      ],
      "execution_count": 8,
      "outputs": [
        {
          "output_type": "display_data",
          "data": {
            "application/javascript": [
              "(async (port, path, width, height, cache, element) => {\n",
              "    if (!google.colab.kernel.accessAllowed && !cache) {\n",
              "      return;\n",
              "    }\n",
              "    element.appendChild(document.createTextNode(''));\n",
              "    const url = await google.colab.kernel.proxyPort(port, {cache});\n",
              "    const iframe = document.createElement('iframe');\n",
              "    iframe.src = new URL(path, url).toString();\n",
              "    iframe.height = height;\n",
              "    iframe.width = width;\n",
              "    iframe.style.border = 0;\n",
              "    element.appendChild(iframe);\n",
              "  })(8050, \"/\", \"100%\", 650, false, window.element)"
            ],
            "text/plain": [
              "<IPython.core.display.Javascript object>"
            ]
          },
          "metadata": {
            "tags": []
          }
        }
      ]
    },
    {
      "cell_type": "code",
      "metadata": {
        "colab": {
          "base_uri": "https://localhost:8080/"
        },
        "id": "Tg_e03ljqJX3",
        "outputId": "c38cba81-bb54-4606-b6c0-7d4fe5777242"
      },
      "source": [
        ""
      ],
      "execution_count": 43,
      "outputs": [
        {
          "output_type": "execute_result",
          "data": {
            "text/plain": [
              "deque([0.27095267012310786,\n",
              "       0.2654034756697538,\n",
              "       0.27352725099850855,\n",
              "       0.29094844224069694,\n",
              "       0.28034228273535916,\n",
              "       0.28166963189818,\n",
              "       0.2914207889205289,\n",
              "       0.27793383215990475,\n",
              "       0.2904148341072751,\n",
              "       0.3057153452123089,\n",
              "       0.3231963025631863,\n",
              "       0.3220558333760733,\n",
              "       0.337633174990494,\n",
              "       0.35059871393871733,\n",
              "       0.3210449207776418,\n",
              "       0.3468032747692323,\n",
              "       0.35901221888920887,\n",
              "       0.39417393216747476,\n",
              "       0.3844289164225448,\n",
              "       0.4121770536950828])"
            ]
          },
          "metadata": {
            "tags": []
          },
          "execution_count": 43
        }
      ]
    }
  ]
}